{
 "cells": [
  {
   "cell_type": "markdown",
   "metadata": {},
   "source": [
    "# **LifeHarmony: An AI Recommender System for a Balanced Life**\n",
    "\n",
    "## **Mapping Features for Model Input**\n",
    "\n",
    "### Why Mapping is Needed:\n",
    "To process user data in a machine-readable format, categorical variables such as marital status, occupation, and hobbies must be converted into numerical values.\n",
    "\n",
    "### Mappings Defined:\n",
    "- **Marital Status**: Single and Married are mapped to integers.\n",
    "- **Occupation**: Each job type (e.g., Full-time, Freelancer) is assigned a unique number.\n",
    "- **Personality**: Personality types are categorized into Extrovert, Introvert, and Ambivert.\n",
    "- **Hobbies**: Options like Exercise, Art, and Writing are converted to integers.\n",
    "- **Priority Mapping**: High/Medium/Low priorities are mapped to `2`, `1`, and `0`, respectively, for calculations.\n",
    "\n",
    "These mappings ensure that our features can be effectively used in mathematical models and algorithms.\n"
   ]
  },
  {
   "cell_type": "code",
   "execution_count": 37,
   "metadata": {},
   "outputs": [
    {
     "name": "stdout",
     "output_type": "stream",
     "text": [
      "{'Career': 0, 'Financial': 0, 'Spiritual': 0, 'Physical': 0, 'Intellectual': 0, 'Family': 0, 'Social': 0, 'Fun': 0}\n"
     ]
    }
   ],
   "source": [
    "marital_status_mapping = {\"Single\": 0, \"Married\": 1}\n",
    "occupation_mapping = {\"Full-time\": 0, \"Part-time\": 1, \"Freelancer\": 2, \"Student\": 3, \"Unemployed\": 4}\n",
    "personality_mapping = {\"Extrovert\": 0, \"Introvert\": 1, \"Ambivert\": 2}\n",
    "hobby_mapping = {\"Exercise\": 0, \"Reading\": 1, \"Writing\": 2, \"Art\": 3, \"Socializing\": 4}\n",
    "priority_mapping = {\"Low\": 0, \"Medium\": 1, \"High\": 2}\n",
    "\n",
    "life_features = [\"Career\", \"Financial\", \"Spiritual\", \"Physical\", \"Intellectual\", \"Family\", \"Social\", \"Fun\"]\n",
    "gaps = {domain:0 for domain in life_features}\n",
    "print(gaps)"
   ]
  },
  {
   "cell_type": "markdown",
   "metadata": {},
   "source": [
    "\n",
    "## **Applying the Model with User Input**\n",
    "\n",
    "### Step 1: Gather User Input\n",
    "We ask the user to provide the following details:\n",
    "   - **Personal Information**: Age, Gender, Marital Status, Occupation, Budget, Allocated Time, Personality, and Hobbies.\n",
    "   - **Domain Ratings**: For each life domain (Career, Financial, Spiritual, etc.), users provide:\n",
    "     - Current satisfaction rating (1-10).\n",
    "     - Desired satisfaction rating (1-10).\n",
    "\n",
    "### Purpose of Input:\n",
    "This information helps determine the **gap** between a user’s current state and their goal. Domains with larger gaps are prioritized for recommendations.\n",
    "\n",
    "### Example:\n",
    "If a user rates their **Physical** satisfaction as `5` but wants it to be `8`, the gap is calculated as: `Gap = Desired Rating - Current Rating = 8 - 5 = 3`\n"
   ]
  },
  {
   "cell_type": "code",
   "execution_count": 38,
   "metadata": {},
   "outputs": [],
   "source": [
    "age = 24\n",
    "gender = \"Female\"\n",
    "marital_status = \"Single\"\n",
    "occupation = \"Student\"\n",
    "budget = 3000\n",
    "allocated_time = 3\n",
    "personality = \"Ambivert\"\n",
    "hobby = \"Art\""
   ]
  },
  {
   "cell_type": "code",
   "execution_count": 39,
   "metadata": {},
   "outputs": [
    {
     "name": "stdout",
     "output_type": "stream",
     "text": [
      "{'Career': 3, 'Financial': 0, 'Spiritual': 1, 'Physical': 3, 'Intellectual': 2, 'Family': 2, 'Social': 2, 'Fun': 4}\n"
     ]
    }
   ],
   "source": [
    "\n",
    "ask_for_input = False\n",
    "if ask_for_input:\n",
    "    for domain in life_features:\n",
    "        current = input(f\"Enter your current rating for {domain} (1-10): \")\n",
    "        goal = input(f\"Enter your goal rating for {domain} (1-10): \")\n",
    "        gaps[domain] = int(goal) - int(current)\n",
    "else:\n",
    "    gaps = {'Career': 3, 'Financial': 0, 'Spiritual': 1, 'Physical': 3, 'Intellectual': 2, 'Family': 2, 'Social': 2, 'Fun': 4}\n",
    "\n",
    "print(gaps)"
   ]
  },
  {
   "cell_type": "markdown",
   "metadata": {},
   "source": [
    "\n",
    "## **Normalizing Gaps and Assigning Priorities**\n",
    "\n",
    "### Why Normalize?\n",
    "Gaps across domains vary, and normalizing ensures fair comparisons by scaling all gaps relative to the largest one.\n",
    "\n",
    "### Normalization Logic:\n",
    "- Divide each gap by the maximum gap to get a value between `0` and `1`.\n",
    "- Example: If the largest gap is `4` and another gap is `2`, the normalized value of `2` is `0.5`.\n",
    "\n",
    "### Assigning Priorities:\n",
    "- Domains are prioritized as **High**, **Medium**, or **Low** based on thresholds:\n",
    "  - **Low**: Gap is in the bottom 25% of all normalized gaps.\n",
    "  - **Medium**: Gap is between 25% and 66%.\n",
    "  - **High**: Gap is in the top 33%.\n",
    "\n",
    "If all gaps are equal, priorities are assigned alphabetically as a tie-breaking rule.\n",
    "\n"
   ]
  },
  {
   "cell_type": "code",
   "execution_count": 40,
   "metadata": {},
   "outputs": [
    {
     "name": "stdout",
     "output_type": "stream",
     "text": [
      "{'Career': 'High', 'Financial': 'Low', 'Spiritual': 'Low', 'Physical': 'High', 'Intellectual': 'Medium', 'Family': 'Medium', 'Social': 'Medium', 'Fun': 'High'}\n"
     ]
    }
   ],
   "source": [
    "import numpy as np\n",
    "\n",
    "# Normalize gaps (divide by max gap to get values between 0 and 1)\n",
    "max_gap = max(abs(val) for val in gaps.values())\n",
    "normalized_gaps = {key: abs(value) / max_gap for key, value in gaps.items()} if max_gap != 0 else {key: 0 for key in gaps}\n",
    "\n",
    "# Assign priorities\n",
    "if len(set(normalized_gaps.values())) == 1:  # All gaps are equal\n",
    "    # Tie-breaking rule: Alphabetical order of domain names\n",
    "    sorted_domains = sorted(normalized_gaps.keys())\n",
    "    priorities = {\n",
    "        key: \"High\" if key == sorted_domains[0] else \"Medium\" if key == sorted_domains[1] else \"Low\"\n",
    "        for key in normalized_gaps\n",
    "    }\n",
    "else:\n",
    "    # Assign priorities based on thresholds\n",
    "    thresholds = np.percentile(list(normalized_gaps.values()), [25.00, 66.67])\n",
    "    priorities = {\n",
    "        key: \"Low\" if normalized_gaps[key] <= thresholds[0] else\n",
    "                \"Medium\" if normalized_gaps[key] <= thresholds[1] else\n",
    "                \"High\"\n",
    "        for key in normalized_gaps\n",
    "    }\n",
    "\n",
    "print(priorities)\n"
   ]
  },
  {
   "cell_type": "markdown",
   "metadata": {},
   "source": [
    "## **Encoding the User State**\n",
    "\n",
    "### Why Encode?\n",
    "To compare the user's state with training data, all inputs need to be converted into a standardized numerical vector.\n",
    "\n",
    "### How It's Done:\n",
    "- Map each user input to its numerical representation (using the mappings defined earlier).\n",
    "- Include priorities for all life domains.\n",
    "- Example of an Encoded Vector:\n",
    "```python\n",
    "[24, 0, 3, 3000, 2, 3, 2, 1, 0, 0, 1, 2, 1, 1]"
   ]
  },
  {
   "cell_type": "code",
   "execution_count": 41,
   "metadata": {},
   "outputs": [
    {
     "name": "stdout",
     "output_type": "stream",
     "text": [
      "[24, 0, 3, 3000, 2, 3, 2, 0, 0, 2, 1, 1, 1, 2]\n"
     ]
    }
   ],
   "source": [
    "user_state_vector = [\n",
    "    age,\n",
    "    marital_status_mapping[marital_status],\n",
    "    occupation_mapping[occupation],\n",
    "    budget,\n",
    "    personality_mapping[personality],\n",
    "    hobby_mapping[hobby],\n",
    "    *[priority_mapping[priorities[domain]] for domain in life_features],  # Map priorities for each life feature\n",
    "]\n",
    "print(user_state_vector)\n"
   ]
  },
  {
   "cell_type": "markdown",
   "metadata": {},
   "source": [
    "## **Matching User State to Training Data**\n",
    "\n",
    "### Purpose:\n",
    "To find the most similar training states to the user’s encoded state, allowing for relevant recommendations to be made.\n",
    "\n",
    "### How It Works:\n",
    "1. **Nearest Neighbor Search**:\n",
    "   - A **k-Nearest Neighbors (k-NN)** model is trained on the encoded training states.\n",
    "   - For a given user’s state, the model finds the `k` most similar states based on a chosen similarity metric (e.g., cosine similarity, Euclidean distance).\n",
    "   \n",
    "2. **Weighted Aggregation**:\n",
    "   - Neighbors closer to the user’s state are assigned higher weights.\n",
    "   - The weights are inversely proportional to the distance from the user’s state.\n",
    "\n",
    "### Example:\n",
    "For a user with encoded state `[24, 0, 3, 3000, 2, 3, 2, 1, 0, 0, 1, 2, 1, 1]`:\n",
    "- The k-NN model identifies the top `k` closest training states.\n",
    "- Weights are computed for each neighbor to prioritize closer matches.\n"
   ]
  },
  {
   "cell_type": "markdown",
   "metadata": {},
   "source": [
    "## **Making Recommendations**\n",
    "\n",
    "### Using the Q-Table:\n",
    "1. **Retrieve Q-Values**:\n",
    "   - For each neighbor, extract the Q-values from the Q-Table. These values represent the model’s learned assessment of action quality for that state.\n",
    "   \n",
    "2. **Threshold-Based Filtering**:\n",
    "   - Only actions with Q-values above a defined threshold (e.g., 70% of the maximum Q-value) are considered.\n",
    "   - This ensures that only high-quality recommendations are included.\n",
    "\n",
    "3. **Final Aggregation**:\n",
    "   - Combine actions from all neighbors.\n",
    "   - Ensure uniqueness by filtering out duplicate actions.\n",
    "\n",
    "### Example Output:\n",
    "For a user prioritizing **Career** and **Health**, the recommended actions might include:\n",
    "- \"Exercise regularly.\"\n",
    "- \"Update your resume.\"\n",
    "- \"Join professional networking events.\""
   ]
  },
  {
   "cell_type": "code",
   "execution_count": 42,
   "metadata": {},
   "outputs": [
    {
     "name": "stdout",
     "output_type": "stream",
     "text": [
      "Encoded Training States: 9600\n",
      "Q-table Rows: 9600\n"
     ]
    }
   ],
   "source": [
    "from sklearn.neighbors import NearestNeighbors\n",
    "import numpy as np\n",
    "\n",
    "# Load training state vectors and Q-table\n",
    "encoded_training_states = np.load(\"encoded_training_states.npy\")  # Encoded training states\n",
    "q_table = np.load(\"train_q_table.npy\")  # Trained Q-table\n",
    "\n",
    "# Load mappings\n",
    "index_to_action = np.load(\"index_to_action.npy\", allow_pickle=True).item()  # Index-to-action mapping\n",
    "\n",
    "print(f\"Encoded Training States: {encoded_training_states.shape[0]}\")\n",
    "print(f\"Q-table Rows: {q_table.shape[0]}\")"
   ]
  },
  {
   "cell_type": "code",
   "execution_count": 43,
   "metadata": {},
   "outputs": [
    {
     "name": "stdout",
     "output_type": "stream",
     "text": [
      "Recommended Actions:\n",
      "- Join small, interest-based groups\n",
      "- Consider getting a gym membership\n",
      "- Visit art fairs with friends\n",
      "- Engage in hobbies you enjoy\n",
      "- Attend regular preventative medical checkups\n",
      "- Watch your favorite shows\n",
      "- Join group art classes\n",
      "- Participate in online communities\n",
      "- Visit family members regularly\n",
      "- Allocate 1-3 hours a week into improving your career-related skills\n",
      "- Try community hikes or dance classes\n",
      "- Plan family gatherings\n",
      "- Eat healthy foods\n"
     ]
    }
   ],
   "source": [
    "k = 3\n",
    "threshold = 0.7\n",
    "\n",
    "# User's encoded state\n",
    "user_state_vector = np.array(user_state_vector).reshape(1, -1)\n",
    "\n",
    "scaled_training_states = encoded_training_states \n",
    "user_state_vector_scaled = user_state_vector \n",
    "\n",
    "\n",
    "# Initialize and fit k-NN\n",
    "knn = NearestNeighbors(n_neighbors=k, metric=\"cosine\")\n",
    "knn.fit(encoded_training_states)\n",
    "\n",
    "# Find nearest neighbors\n",
    "distances, indices = knn.kneighbors(user_state_vector)\n",
    "\n",
    "# Retrieve optimal actions from Q-table\n",
    "optimal_actions = []\n",
    "\n",
    "for idx in indices[0]:\n",
    "    state_q_values = q_table[idx]\n",
    "    max_q_value = np.max(state_q_values)\n",
    "    actions = [\n",
    "        index_to_action[action]\n",
    "        for action in np.where(state_q_values >= threshold * max_q_value)[0]\n",
    "    ]\n",
    "    optimal_actions.extend(actions)\n",
    "\n",
    "# Get unique recommendations\n",
    "unique_recommendations = list(set(optimal_actions))\n",
    "\n",
    "# Display recommendations\n",
    "print(\"Recommended Actions:\")\n",
    "for action in unique_recommendations:\n",
    "    print(f\"- {action}\")\n"
   ]
  },
  {
   "cell_type": "markdown",
   "metadata": {},
   "source": [
    "# **Conclusion**\n",
    "\n",
    "The results of the **LifeHarmony AI Recommender System** demonstrate that the model's suggested recommendations align closely with expectations based on the given inputs and priorities. By leveraging a combination of **Reinforcement Learning** and **k-Nearest Neighbors (k-NN)**, the system successfully balances personalization and generalization, providing actionable suggestions tailored to individual user attributes and domain priorities.\n",
    "\n",
    "### Key Takeaways:\n",
    "- **Alignment with Expectations**:\n",
    "  - The recommended actions for validation states closely match the true actions derived from user priorities. This indicates the model's ability to generalize well and align its outputs with logical expectations.\n",
    "  \n",
    "- **Dynamic Adjustments**:\n",
    "  - The incorporation of weighted k-NN and threshold-based filtering ensures that recommendations remain relevant to the user's unique needs, avoiding unnecessary or irrelevant suggestions.\n",
    "\n",
    "- **Practical Relevance**:\n",
    "  - Actions like \"Eat healthy foods\" \"Allocate 1-3 hours a week into improving your career-related skills\" and \"Engage in hobbies you enjoy\" directly address high-priority domains while maintaining a balance across other areas.\n",
    "\n",
    "### Final Thoughts:\n",
    "This project highlights the potential of combining AI-driven methods with domain-specific logic to create a system that provides meaningful, user-focused recommendations. While there are areas for improvement, such as enhancing dynamic learning and incorporating collaborative filtering, the current implementation lays a solid foundation for expanding LifeHarmony into a robust and scalable tool for personal development and balance.\n"
   ]
  }
 ],
 "metadata": {
  "kernelspec": {
   "display_name": "Python 3 (ipykernel)",
   "language": "python",
   "name": "python3"
  },
  "language_info": {
   "codemirror_mode": {
    "name": "ipython",
    "version": 3
   },
   "file_extension": ".py",
   "mimetype": "text/x-python",
   "name": "python",
   "nbconvert_exporter": "python",
   "pygments_lexer": "ipython3",
   "version": "3.12.4"
  }
 },
 "nbformat": 4,
 "nbformat_minor": 4
}
