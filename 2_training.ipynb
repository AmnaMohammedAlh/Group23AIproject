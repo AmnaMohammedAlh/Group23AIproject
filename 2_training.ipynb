{
 "cells": [
  {
   "cell_type": "markdown",
   "metadata": {},
   "source": [
    "# **LifeHarmony: An AI Recommender System for a Balanced Life**\n",
    "\n",
    "After generating a logically consistent dataset based on behavioral features and priorities, it's now time to train our model. This step leverages the structured data to predict personalized recommendations for users based on their attributes and priorities.\n",
    "\n",
    "Our model focuses on learning:\n",
    "- **High Priority Recommendations**: Critical suggestions tailored to address the most significant gaps in a user's life domains.\n",
    "\n",
    "The training process uses structured logical relations and dataset features to map user attributes to actionable suggestions, ensuring each recommendation is practical, relevant, and aligned with the user's needs.\n",
    "\n",
    "---\n",
    "\n",
    "## **Overview of Dataset Features and True Labels**\n",
    "\n",
    "The dataset contains the following **features** and **true labels**:\n",
    "\n",
    "### **Features**\n",
    "1. **User Attributes**:\n",
    "   - `UserID`: A unique identifier for each user.\n",
    "   - `Age`: The user's age (scaled for better model performance).\n",
    "   - `Gender`: The user's gender.\n",
    "   - `Marital Status`: Single or Married status of the user.\n",
    "   - `Occupation`: User's occupation (e.g., Full-time, Freelancer, Student, etc.).\n",
    "   - `Budget`: Budget allocated for personal development (scaled for the model).\n",
    "   - `Time Allocated (hrs/week)`: Weekly hours dedicated to personal growth.\n",
    "   - `Personality`: User's personality type (Introvert, Extrovert, Ambivert).\n",
    "   - `Hobbies`: User's primary hobby or interest (e.g., Reading, Art, Exercise, etc.).\n",
    "\n",
    "2. **Domain Priorities**:\n",
    "   - `Career_Priority`: Importance of career-related improvements (High/Medium/Low).\n",
    "   - `Financial_Priority`: Importance of financial stability (High/Medium/Low).\n",
    "   - `Spiritual_Priority`: Importance of spiritual growth (High/Medium/Low).\n",
    "   - `Physical_Priority`: Importance of physical well-being (High/Medium/Low).\n",
    "   - `Intellectual_Priority`: Importance of intellectual development (High/Medium/Low).\n",
    "   - `Family_Priority`: Importance of family-related improvements (High/Medium/Low).\n",
    "   - `Social_Priority`: Importance of social connections (High/Medium/Low).\n",
    "   - `Fun_Priority`: Importance of fun and recreational activities (High/Medium/Low).\n",
    "\n",
    "### **True Label**\n",
    "**High Priority Recommendations**:\n",
    "   - A list of actionable suggestions addressing the user's most urgent priorities (e.g., \"Update your resume\", \"Start an emergency savings plan\").\n",
    "   - Each recommendation aligns with the user's high-priority domains and attributes like budget, hobbies, and occupation.\n",
    "\n",
    "---\n",
    "\n",
    "### **Key Example**\n",
    "| **Feature**              | **Example Value**         |  \n",
    "|--------------------------|---------------------------|  \n",
    "| `Age`                   | 32                        |  \n",
    "| `Gender`                | Female                    |  \n",
    "| `Marital Status`        | Married                   |  \n",
    "| `Occupation`            | Freelancer                |  \n",
    "| `Budget`                | 1375                      |  \n",
    "| `Personality`           | Extrovert                 |  \n",
    "| `Career_Priority`       | High                      |  \n",
    "| **High Priority Recommendations** | [\"Update your resume\", \"Attend career fairs\"] |  \n",
    "\n",
    "This dataset forms the foundation for training a multi-label model that predicts recommendations aligned with user attributes and domain priorities.\n"
   ]
  },
  {
   "cell_type": "code",
   "execution_count": 6,
   "metadata": {},
   "outputs": [],
   "source": [
    "import numpy as np\n",
    "import pandas as pd\n",
    "\n",
    "# Load the dataset\n",
    "data_path = \"generated_datasets/4_generated_dataset_with_recommendations.xlsx\"\n",
    "data = pd.read_excel(data_path)"
   ]
  },
  {
   "cell_type": "code",
   "execution_count": 7,
   "metadata": {},
   "outputs": [],
   "source": [
    "# Subsample the dataset\n",
    "subsample_data = data.sample(n=12000, random_state=37)"
   ]
  },
  {
   "cell_type": "markdown",
   "metadata": {},
   "source": [
    "# **Data Preprocessing and Encoding**\n",
    "\n",
    "Before training, the raw dataset must be preprocessed and encoded for model compatibility. This involves:\n",
    "\n",
    "1. **Categorical Encoding**: Mapping categorical variables like `Personality`, and `Occupation` to numeric values.\n",
    "2. **Priority Scaling**: Converting priority levels (`High`, `Medium`, `Low`) into numerical scales for training.\n",
    "3. **Feature Normalization**: Scaling continuous variables like `Age` and `Budget` to enhance model performance.\n",
    "\n",
    "Key Steps:\n",
    "- One-hot encoding for features like `Hobbies`.\n",
    "- Numerical mapping for priorities and personality traits.\n",
    "- Data splitting into training, validation, and test sets."
   ]
  },
  {
   "cell_type": "code",
   "execution_count": 9,
   "metadata": {},
   "outputs": [],
   "source": [
    "marital_status_mapping = {\"Single\": 0, \"Married\": 1}\n",
    "occupation_mapping = {\"Full-time\": 0, \"Part-time\": 1, \"Freelancer\": 2, \"Student\": 3, \"Unemployed\": 4}\n",
    "personality_mapping = {\"Extrovert\": 0, \"Introvert\": 1, \"Ambivert\": 2}\n",
    "hobby_mapping = {\"Exercise\": 0, \"Reading\": 1, \"Writing\": 2, \"Art\": 3, \"Socializing\": 4}\n",
    "priority_mapping = {\"Low\": 0, \"Medium\": 1, \"High\": 2}\n",
    "\n",
    "life_features = [\"Career\", \"Financial\", \"Spiritual\", \"Physical\", \"Intellectual\", \"Family\", \"Social\", \"Fun\"]"
   ]
  },
  {
   "cell_type": "code",
   "execution_count": 10,
   "metadata": {},
   "outputs": [
    {
     "name": "stdout",
     "output_type": "stream",
     "text": [
      "Number of Unique Training Samples: 9600\n",
      "Number of Unique Testing Samples: 2400\n",
      "Number of Unique Recommendations in Training Set: 40\n",
      "Number of Unique Recommendations in Testing Set: 40\n",
      "Number of Unique Recommendations in Total: 40\n",
      "Training states saved!\n"
     ]
    }
   ],
   "source": [
    "# Define RL Environment for subsampled data\n",
    "# Encode training states\n",
    "encoded_states = []\n",
    "for _, row in subsample_data.iterrows():\n",
    "    encoded_state = [\n",
    "        int(row['Age']),\n",
    "        marital_status_mapping[row['Marital Status']],\n",
    "        occupation_mapping[row['Occupation']],\n",
    "        int(row['Budget']),\n",
    "        personality_mapping[row['Personality']],\n",
    "        hobby_mapping[row['Hobbies']],\n",
    "        priority_mapping[row['Career_Priority']],\n",
    "        priority_mapping[row['Financial_Priority']],\n",
    "        priority_mapping[row['Spiritual_Priority']],\n",
    "        priority_mapping[row['Physical_Priority']],\n",
    "        priority_mapping[row['Intellectual_Priority']],\n",
    "        priority_mapping[row['Family_Priority']],\n",
    "        priority_mapping[row['Social_Priority']],\n",
    "        priority_mapping[row['Fun_Priority']],\n",
    "    ]\n",
    "    encoded_states.append(encoded_state)\n",
    "\n",
    "# Convert to NumPy array for RL model training\n",
    "states = np.array(encoded_states)\n",
    "\n",
    "actions = subsample_data['Recommendations'].apply(eval).values  # Actions (recommendations)\n",
    "\n",
    "num_actions = len(set(sum(actions, [])))  # Unique recommendations\n",
    "\n",
    "from sklearn.model_selection import train_test_split\n",
    "\n",
    "# Split the states and actions\n",
    "train_states, val_states, train_actions, val_actions = train_test_split(\n",
    "    states, actions, test_size=0.2, random_state=42\n",
    ")\n",
    "\n",
    "num_train_states = len(train_states)\n",
    "num_test_states = len(val_states)\n",
    "\n",
    "# Initialize separate Q-tables for training and validation\n",
    "####  Initialize Q-values randomly within a small range to encourage exploration:\n",
    "train_q_table = np.random.uniform(low=0, high=0.01, size=(len(train_states), num_actions))\n",
    "val_q_table = np.zeros((num_test_states, num_actions))\n",
    "\n",
    "# Print subsampled info\n",
    "print(\"Number of Unique Training Samples:\", num_train_states)\n",
    "print(\"Number of Unique Testing Samples:\", num_test_states)\n",
    "print(\"Number of Unique Recommendations in Training Set:\", len(set(sum(train_actions, []))))\n",
    "print(\"Number of Unique Recommendations in Testing Set:\", len(set(sum(val_actions, []))))\n",
    "print(\"Number of Unique Recommendations in Total:\", num_actions)\n",
    "# Assuming `encoded_training_states` is your array of training state vectors\n",
    "np.save(\"encoded_training_states.npy\", train_states)\n",
    "print(\"Training states saved!\")\n",
    "\n"
   ]
  },
  {
   "cell_type": "markdown",
   "metadata": {},
   "source": [
    "# **Reinforcement Learning: Training the Q-Table**\n",
    "\n",
    "Using a Q-learning approach to map user states (attributes and priorities) to actionable recommendations:\n",
    "\n",
    "1. **State Representation**: Encoded states based on user attributes and domain priorities.\n",
    "2. **Actions**: A pool of potential recommendations.\n",
    "3. **Reward Function**:\n",
    "   - Positive rewards for actionable recommendations that align with user priorities.\n",
    "   - Negative rewards for irrelevant or impractical suggestions.\n",
    "\n",
    "### **Parallel Processing for Efficient Training**\n",
    "To accelerate the training process, **parallel processing** is utilized:\n",
    "- Each state in the dataset is processed independently during each Q-value update.\n",
    "- This independence enables the use of libraries like `joblib` to distribute computations across multiple CPU cores.\n",
    "\n",
    "### **Advantages of Parallel Training**\n",
    "- **Speed**: Significantly reduces training time for large datasets.\n",
    "- **Scalability**: Handles high-dimensional data and extensive state-action spaces efficiently.\n",
    "- **Reproducibility**: Ensures consistent updates across parallel tasks using shared data structures.\n",
    "\n",
    "#### Example Workflow\n",
    "1. **Initialize Q-Table**: Assign initial Q-values to all state-action pairs.\n",
    "2. **Process States in Parallel**:\n",
    "   - Use the `joblib` library to distribute the workload.\n",
    "   - Update Q-values for each state independently.\n",
    "3. **Combine Updates**:\n",
    "   - Aggregate Q-values after each iteration.\n",
    "   - Ensure consistent learning rate (`alpha`) and discount factor (`gamma`) across states.\n",
    "4. **Repeat**: Iterate until convergence.\n",
    "\n",
    "This approach ensures the model scales effectively with increasing data while maintaining consistency in policy learning.\n"
   ]
  },
  {
   "cell_type": "code",
   "execution_count": 55,
   "metadata": {},
   "outputs": [
    {
     "name": "stdout",
     "output_type": "stream",
     "text": [
      "Number of Unique Actions in Training Set: 40\n"
     ]
    },
    {
     "name": "stderr",
     "output_type": "stream",
     "text": [
      "Training Progress:   7%|▋         | 100/1500 [03:34<49:38,  2.13s/iteration]"
     ]
    },
    {
     "name": "stdout",
     "output_type": "stream",
     "text": [
      "Iteration 100: Avg Reward = 30.75116786362738, Avg Q-value = 0.8396968080220061, Epsilon = 0.901\n",
      "Precision = 0.5430, Recall = 0.4661, F1 = 0.4614\n",
      "--------------------------------------------------\n"
     ]
    },
    {
     "name": "stderr",
     "output_type": "stream",
     "text": [
      "Training Progress:  13%|█▎        | 200/1500 [07:11<45:27,  2.10s/iteration]"
     ]
    },
    {
     "name": "stdout",
     "output_type": "stream",
     "text": [
      "Iteration 200: Avg Reward = 28.00806629741582, Avg Q-value = 1.6428442578277236, Epsilon = 0.8009999999999999\n",
      "Precision = 0.9487, Recall = 0.7877, F1 = 0.8429\n",
      "--------------------------------------------------\n"
     ]
    },
    {
     "name": "stderr",
     "output_type": "stream",
     "text": [
      "Training Progress:  20%|██        | 300/1500 [10:51<44:24,  2.22s/iteration]"
     ]
    },
    {
     "name": "stdout",
     "output_type": "stream",
     "text": [
      "Iteration 300: Avg Reward = 25.3011112196433, Avg Q-value = 2.4221092926960672, Epsilon = 0.7010000000000001\n",
      "Precision = 0.9992, Recall = 0.9624, F1 = 0.9784\n",
      "--------------------------------------------------\n"
     ]
    },
    {
     "name": "stderr",
     "output_type": "stream",
     "text": [
      "Training Progress:  27%|██▋       | 400/1500 [14:30<40:26,  2.21s/iteration]"
     ]
    },
    {
     "name": "stdout",
     "output_type": "stream",
     "text": [
      "Iteration 400: Avg Reward = 22.63460194830537, Avg Q-value = 3.167502155314621, Epsilon = 0.601\n",
      "Precision = 1.0000, Recall = 0.9989, F1 = 0.9994\n",
      "--------------------------------------------------\n"
     ]
    },
    {
     "name": "stderr",
     "output_type": "stream",
     "text": [
      "Training Progress:  33%|███▎      | 500/1500 [18:05<35:49,  2.15s/iteration]"
     ]
    },
    {
     "name": "stdout",
     "output_type": "stream",
     "text": [
      "Iteration 500: Avg Reward = 20.109196568436822, Avg Q-value = 3.861665108864901, Epsilon = 0.501\n",
      "Precision = 1.0000, Recall = 1.0000, F1 = 1.0000\n",
      "--------------------------------------------------\n"
     ]
    },
    {
     "name": "stderr",
     "output_type": "stream",
     "text": [
      "Training Progress:  40%|████      | 600/1500 [21:37<31:30,  2.10s/iteration]"
     ]
    },
    {
     "name": "stdout",
     "output_type": "stream",
     "text": [
      "Iteration 600: Avg Reward = 17.752659719139203, Avg Q-value = 4.486317648872489, Epsilon = 0.401\n",
      "Precision = 1.0000, Recall = 1.0000, F1 = 1.0000\n",
      "--------------------------------------------------\n"
     ]
    },
    {
     "name": "stderr",
     "output_type": "stream",
     "text": [
      "Training Progress:  47%|████▋     | 700/1500 [25:07<28:23,  2.13s/iteration]"
     ]
    },
    {
     "name": "stdout",
     "output_type": "stream",
     "text": [
      "Iteration 700: Avg Reward = 15.659972712961029, Avg Q-value = 5.025389044002811, Epsilon = 0.30099999999999993\n",
      "Precision = 1.0000, Recall = 1.0000, F1 = 1.0000\n",
      "--------------------------------------------------\n"
     ]
    },
    {
     "name": "stderr",
     "output_type": "stream",
     "text": [
      "Training Progress:  53%|█████▎    | 800/1500 [28:35<23:18,  2.00s/iteration]"
     ]
    },
    {
     "name": "stdout",
     "output_type": "stream",
     "text": [
      "Iteration 800: Avg Reward = 13.852438432985863, Avg Q-value = 5.464044508765216, Epsilon = 0.20099999999999996\n",
      "Precision = 1.0000, Recall = 1.0000, F1 = 1.0000\n",
      "--------------------------------------------------\n"
     ]
    },
    {
     "name": "stderr",
     "output_type": "stream",
     "text": [
      "Training Progress:  60%|██████    | 900/1500 [31:57<23:19,  2.33s/iteration]"
     ]
    },
    {
     "name": "stdout",
     "output_type": "stream",
     "text": [
      "Iteration 900: Avg Reward = 12.376293006439358, Avg Q-value = 5.790510634622899, Epsilon = 0.10099999999999998\n",
      "Precision = 1.0000, Recall = 1.0000, F1 = 1.0000\n",
      "--------------------------------------------------\n"
     ]
    },
    {
     "name": "stderr",
     "output_type": "stream",
     "text": [
      "Training Progress:  67%|██████▋   | 1000/1500 [35:29<17:14,  2.07s/iteration]"
     ]
    },
    {
     "name": "stdout",
     "output_type": "stream",
     "text": [
      "Iteration 1000: Avg Reward = 11.344079726684601, Avg Q-value = 6.044968965839757, Epsilon = 0.1\n",
      "Precision = 1.0000, Recall = 1.0000, F1 = 1.0000\n",
      "--------------------------------------------------\n"
     ]
    },
    {
     "name": "stderr",
     "output_type": "stream",
     "text": [
      "Training Progress:  73%|███████▎  | 1100/1500 [39:41<21:21,  3.20s/iteration]"
     ]
    },
    {
     "name": "stdout",
     "output_type": "stream",
     "text": [
      "Iteration 1100: Avg Reward = 10.431664039238093, Avg Q-value = 6.277480700995973, Epsilon = 0.1\n",
      "Precision = 1.0000, Recall = 1.0000, F1 = 1.0000\n",
      "--------------------------------------------------\n"
     ]
    },
    {
     "name": "stderr",
     "output_type": "stream",
     "text": [
      "Training Progress:  80%|████████  | 1200/1500 [43:49<10:33,  2.11s/iteration]"
     ]
    },
    {
     "name": "stdout",
     "output_type": "stream",
     "text": [
      "Iteration 1200: Avg Reward = 9.634084192377124, Avg Q-value = 6.490145201333715, Epsilon = 0.1\n",
      "Precision = 1.0000, Recall = 1.0000, F1 = 1.0000\n",
      "--------------------------------------------------\n"
     ]
    },
    {
     "name": "stderr",
     "output_type": "stream",
     "text": [
      "Training Progress:  87%|████████▋ | 1300/1500 [47:21<07:16,  2.18s/iteration]"
     ]
    },
    {
     "name": "stdout",
     "output_type": "stream",
     "text": [
      "Iteration 1300: Avg Reward = 8.928274099601238, Avg Q-value = 6.684332370521799, Epsilon = 0.1\n",
      "Precision = 1.0000, Recall = 1.0000, F1 = 1.0000\n",
      "--------------------------------------------------\n"
     ]
    },
    {
     "name": "stderr",
     "output_type": "stream",
     "text": [
      "Training Progress:  93%|█████████▎| 1400/1500 [50:54<03:33,  2.13s/iteration]"
     ]
    },
    {
     "name": "stdout",
     "output_type": "stream",
     "text": [
      "Iteration 1400: Avg Reward = 8.31540442650014, Avg Q-value = 6.861483100719679, Epsilon = 0.1\n",
      "Precision = 1.0000, Recall = 1.0000, F1 = 1.0000\n",
      "--------------------------------------------------\n"
     ]
    },
    {
     "name": "stderr",
     "output_type": "stream",
     "text": [
      "Training Progress: 100%|██████████| 1500/1500 [54:28<00:00,  2.18s/iteration]"
     ]
    },
    {
     "name": "stdout",
     "output_type": "stream",
     "text": [
      "Iteration 1500: Avg Reward = 7.767617569945843, Avg Q-value = 7.022559697044535, Epsilon = 0.1\n",
      "Precision = 1.0000, Recall = 1.0000, F1 = 1.0000\n",
      "--------------------------------------------------\n",
      "\n",
      "Q-learning Complete\n",
      "Q-table saved.\n"
     ]
    },
    {
     "name": "stderr",
     "output_type": "stream",
     "text": [
      "\n"
     ]
    },
    {
     "data": {
      "image/png": "[encoded data removed]",
      "text/plain": [
       "<Figure size 1200x600 with 1 Axes>"
      ]
     },
     "metadata": {},
     "output_type": "display_data"
    },
    {
     "data": {
      "image/png": "[encoded data removed]",
      "text/plain": [
       "<Figure size 1200x600 with 1 Axes>"
      ]
     },
     "metadata": {},
     "output_type": "display_data"
    }
   ],
   "source": [
    "import numpy as np\n",
    "import matplotlib.pyplot as plt\n",
    "from joblib import Parallel, delayed\n",
    "from tqdm import tqdm\n",
    "\n",
    "# Map actions to indices\n",
    "unique_actions = list(set(sum(train_actions, [])))  # Flatten and get unique actions\n",
    "action_to_index = {action: idx for idx, action in enumerate(unique_actions)}\n",
    "index_to_action = {idx: action for action, idx in action_to_index.items()}\n",
    "num_actions = len(unique_actions)\n",
    "\n",
    "print(\"Number of Unique Actions in Training Set:\", num_actions)\n",
    "\n",
    "# Initialize training Q-table\n",
    "train_q_table = np.zeros((len(train_states), num_actions))\n",
    "\n",
    "# Check for invalid actions\n",
    "for state_idx, state_actions in enumerate(train_actions):\n",
    "    for action in state_actions:\n",
    "        if action not in action_to_index:\n",
    "            print(f\"Action {action} not in action_to_index mapping (State {state_idx})\")\n",
    "\n",
    "# Define a custom reward function\n",
    "def simulate_reward(state_actions, action, q_table, action_idx):\n",
    "    \"\"\"\n",
    "    Calculate reward based on action relevance.\n",
    "    Diminishing rewards for repeated recommendations using Q-table.\n",
    "    \"\"\"\n",
    "    if action in state_actions:\n",
    "        return 5 - 0.5 * q_table[:, action_idx].mean()  # Diminishing reward for overused actions\n",
    "    else:\n",
    "        return -5  # Penalize irrelevant actions\n",
    "\n",
    "# Exploration probability (epsilon)\n",
    "initial_epsilon = 1.0  # Start with full exploration\n",
    "min_epsilon = 0.1  # Minimum exploration\n",
    "epsilon_decay = 0.001  # Decay rate\n",
    "\n",
    "# Define a single training step for a state\n",
    "def train_state(state_idx, q_table, actions, learning_rate, gamma, epsilon):\n",
    "    \"\"\"\n",
    "    Update Q-table row for a specific state.\n",
    "    \"\"\"\n",
    "    new_row = q_table[state_idx].copy()  # Copy current Q-values\n",
    "    total_reward = 0  # To accumulate rewards for this state\n",
    "\n",
    "    for action in actions[state_idx]:\n",
    "        if np.random.random() < epsilon:  # Explore\n",
    "            action_idx = np.random.choice(len(action_to_index))\n",
    "        else:  # Exploit\n",
    "            action_idx = action_to_index[action]\n",
    "\n",
    "        reward = simulate_reward(actions[state_idx], action, q_table, action_idx)\n",
    "        next_state_idx = (state_idx + 1) % len(q_table)  # Sequential state transition\n",
    "        max_future_q = np.max(q_table[next_state_idx])  # Best Q-value of next state\n",
    "\n",
    "        # Q-learning update formula\n",
    "        new_row[action_idx] = (\n",
    "            (1 - learning_rate) * new_row[action_idx]\n",
    "            + learning_rate * (reward + gamma * max_future_q)\n",
    "        )\n",
    "        total_reward += reward\n",
    "\n",
    "    return new_row, total_reward\n",
    "\n",
    "\n",
    "# Multi-label recommendation function\n",
    "def get_recommendations(q_table, state_idx, threshold=0.9):\n",
    "    \"\"\"\n",
    "    Return actions with Q-values above a certain threshold for a state.\n",
    "    \"\"\"\n",
    "    state_q_values = q_table[state_idx]\n",
    "    max_q_value = np.max(state_q_values)\n",
    "    recommended_actions = [\n",
    "        index_to_action[idx]\n",
    "        for idx, q_val in enumerate(state_q_values)\n",
    "        if q_val >= threshold * max_q_value\n",
    "    ]\n",
    "    return recommended_actions\n",
    "\n",
    "\n",
    "# Evaluate Q-table predictions\n",
    "def evaluate_predictions(q_table, states, true_actions, threshold=0.8):\n",
    "    \"\"\"\n",
    "    Evaluate model performance using Precision, Recall, and F1 Score.\n",
    "    \"\"\"\n",
    "    precision_list = []\n",
    "    recall_list = []\n",
    "    f1_list = []\n",
    "\n",
    "    for state_idx in range(len(states)):\n",
    "        predicted_actions = get_recommendations(q_table, state_idx, threshold)\n",
    "        true_labels = true_actions[state_idx]\n",
    "\n",
    "        true_positive = len(set(predicted_actions) & set(true_labels))\n",
    "        precision = true_positive / len(predicted_actions) if predicted_actions else 0\n",
    "        recall = true_positive / len(true_labels) if true_labels else 0\n",
    "        f1_score = (\n",
    "            2 * precision * recall / (precision + recall) if (precision + recall) > 0 else 0\n",
    "        )\n",
    "\n",
    "        precision_list.append(precision)\n",
    "        recall_list.append(recall)\n",
    "        f1_list.append(f1_score)\n",
    "\n",
    "    avg_precision = np.mean(precision_list)\n",
    "    avg_recall = np.mean(recall_list)\n",
    "    avg_f1 = np.mean(f1_list)\n",
    "\n",
    "    return avg_precision, avg_recall, avg_f1\n",
    "\n",
    "\n",
    "# Parallel Q-learning on training data\n",
    "learning_rate = 0.01\n",
    "gamma = 0.9\n",
    "num_iterations = 1500\n",
    "rewards_log = []  # To log rewards\n",
    "precision_log = []  # To log precision\n",
    "recall_log = []  # To log recall\n",
    "f1_log = []  # To log F1-score\n",
    "\n",
    "# Progress bar for training iterations\n",
    "progress_bar = tqdm(range(num_iterations), desc=\"Training Progress\", unit=\"iteration\")\n",
    "for iteration in progress_bar:\n",
    "    # Decay epsilon for exploration-exploitation balance\n",
    "    epsilon = max(min_epsilon, initial_epsilon - epsilon_decay * iteration)\n",
    "\n",
    "    # Parallelize training for all states\n",
    "    results = Parallel(n_jobs=8)(\n",
    "        delayed(train_state)(state_idx, train_q_table, train_actions, learning_rate, gamma, epsilon)\n",
    "        for state_idx in range(len(train_states))\n",
    "    )\n",
    "\n",
    "    # Separate updated rows and iteration rewards\n",
    "    updated_rows, iteration_rewards = zip(*results)\n",
    "    train_q_table = np.array(updated_rows)  # Update Q-table\n",
    "    avg_reward = np.mean(iteration_rewards)  # Calculate average reward\n",
    "    rewards_log.append(avg_reward)\n",
    "\n",
    "    # Evaluate precision, recall, and F1 every 100 iterations\n",
    "    if (iteration + 1) % 100 == 0:\n",
    "        precision, recall, f1_score = evaluate_predictions(train_q_table, train_states, train_actions)\n",
    "        precision_log.append(precision)\n",
    "        recall_log.append(recall)\n",
    "        f1_log.append(f1_score)\n",
    "\n",
    "        avg_q_value = np.mean(train_q_table)\n",
    "        print(f\"Iteration {iteration + 1}: Avg Reward = {avg_reward}, Avg Q-value = {avg_q_value}, Epsilon = {epsilon}\")\n",
    "        print(f\"Precision = {precision:.4f}, Recall = {recall:.4f}, F1 = {f1_score:.4f}\")\n",
    "        print(\"-\" * 50)\n",
    "        \n",
    "\n",
    "print(\"\\nQ-learning Complete\")\n",
    "np.save(\"train_q_table.npy\", train_q_table)\n",
    "print(\"Q-table saved.\")\n",
    "\n",
    "# Plot metrics and reward evolution\n",
    "plt.figure(figsize=(12, 6))\n",
    "plt.plot(rewards_log, label=\"Average Reward\", color=\"blue\")\n",
    "plt.xlabel(\"Iterations\")\n",
    "plt.ylabel(\"Average Reward\")\n",
    "plt.title(\"Average Reward Over Iterations\")\n",
    "plt.legend()\n",
    "plt.grid(True)\n",
    "plt.show()\n",
    "\n",
    "# Plot Precision, Recall, and F1 Score\n",
    "plt.figure(figsize=(12, 6))\n",
    "plt.plot(range(100, num_iterations + 1, 100), precision_log, label=\"Precision\", color=\"green\")\n",
    "plt.plot(range(100, num_iterations + 1, 100), recall_log, label=\"Recall\", color=\"orange\")\n",
    "plt.plot(range(100, num_iterations + 1, 100), f1_log, label=\"F1 Score\", color=\"red\")\n",
    "plt.xlabel(\"Iterations\")\n",
    "plt.ylabel(\"Score\")\n",
    "plt.title(\"Model Metrics Over Iterations\")\n",
    "plt.legend()\n",
    "plt.grid(True)\n",
    "plt.show()\n"
   ]
  },
  {
   "cell_type": "code",
   "execution_count": 56,
   "metadata": {},
   "outputs": [
    {
     "name": "stdout",
     "output_type": "stream",
     "text": [
      "Index-to-action mapping saved to 'index_to_action.npy'\n"
     ]
    }
   ],
   "source": [
    "# Save the index_to_action mapping to a file\n",
    "np.save(\"index_to_action.npy\", index_to_action)\n",
    "print(\"Index-to-action mapping saved to 'index_to_action.npy'\")\n"
   ]
  },
  {
   "cell_type": "markdown",
   "metadata": {},
   "source": [
    "# **k-NN Matching for Validation States**\n",
    "\n",
    "To validate the trained Q-Table's ability to generalize, we use k-Nearest Neighbors (k-NN) for state matching:\n",
    "\n",
    "1. **State Encoding**: Ensure validation states are encoded identically to training states.\n",
    "2. **k-NN Implementation**:\n",
    "   - Match validation states to their closest training states.\n",
    "   - Aggregate Q-values from the nearest neighbors to make predictions.\n",
    "3. **Evaluation**:\n",
    "   - **Precision**: Proportion of relevant recommendations among all predicted.\n",
    "   - **Recall**: Proportion of correctly predicted recommendations among true recommendations.\n",
    "   - **F1 Score**: Harmonic mean of precision and recall.\n",
    "\n",
    "Results:\n",
    "- Highlight precision, recall, and F1 score for various k and threshold values.\n"
   ]
  },
  {
   "cell_type": "code",
   "execution_count": 3,
   "metadata": {},
   "outputs": [],
   "source": [
    "import numpy as np\n",
    "\n",
    "k_neighbors = 10\n",
    "threshold = 0.8\n",
    "loaded_training_states = np.load(\"encoded_training_states.npy\")\n",
    "loaded_q_table = np.load(\"train_q_table.npy\")\n",
    "loaded_index_to_action = np.load(\"index_to_action.npy\", allow_pickle=True).item() "
   ]
  },
  {
   "cell_type": "code",
   "execution_count": 14,
   "metadata": {},
   "outputs": [],
   "source": [
    "from sklearn.metrics import precision_score, recall_score, f1_score\n",
    "from sklearn.neighbors import NearestNeighbors\n",
    "\n",
    "def validate_policy_weighted_knn_metrics(\n",
    "    q_table, \n",
    "    encoded_training_states, \n",
    "    val_states, \n",
    "    val_actions, \n",
    "    index_to_action, \n",
    "    threshold=threshold, \n",
    "    k=k_neighbors, \n",
    "    epsilon=1e-5\n",
    "):\n",
    "    \"\"\"\n",
    "    Validate policy using distance-weighted k-NN and compute precision, recall, and F1-score.\n",
    "    \"\"\"\n",
    "    # Initialize k-NN\n",
    "    knn = NearestNeighbors(n_neighbors=k, metric=\"cosine\")\n",
    "    knn.fit(encoded_training_states)\n",
    "    \n",
    "    # Initialize metrics\n",
    "    total_true_positives = 0\n",
    "    total_false_positives = 0\n",
    "    total_false_negatives = 0\n",
    "\n",
    "    for state_idx, val_state in enumerate(val_states):\n",
    "        # Find nearest neighbors\n",
    "        distances, indices = knn.kneighbors(val_state.reshape(1, -1))\n",
    "        closest_states = [idx for idx in indices[0] if idx < len(q_table)]  # Ensure valid indices\n",
    "\n",
    "        # Calculate weights for neighbors\n",
    "        weights = [1 / (dist + epsilon) for dist in distances[0]]\n",
    "\n",
    "        # Aggregate Q-values with weights\n",
    "        if closest_states:\n",
    "            aggregated_q_values = np.zeros(q_table.shape[1])\n",
    "            for idx, weight in zip(closest_states, weights):\n",
    "                aggregated_q_values += weight * q_table[idx]\n",
    "            \n",
    "            # Normalize aggregated Q-values\n",
    "            aggregated_q_values /= np.sum(weights)\n",
    "\n",
    "            # Get actions above the threshold\n",
    "            max_q_value = np.max(aggregated_q_values)\n",
    "            optimal_actions = [\n",
    "                index_to_action[action_idx]\n",
    "                for action_idx in np.where(aggregated_q_values >= threshold * max_q_value)[0]\n",
    "            ]\n",
    "\n",
    "            # True actions for the state\n",
    "            true_actions = val_actions[state_idx]\n",
    "\n",
    "            # Compute true positives, false positives, and false negatives\n",
    "            true_positives = len(set(optimal_actions) & set(true_actions))\n",
    "            false_positives = len(set(optimal_actions) - set(true_actions))\n",
    "            false_negatives = len(set(true_actions) - set(optimal_actions))\n",
    "\n",
    "            total_true_positives += true_positives\n",
    "            total_false_positives += false_positives\n",
    "            total_false_negatives += false_negatives\n",
    "\n",
    "    # Compute metrics\n",
    "    precision = total_true_positives / (total_true_positives + total_false_positives) if total_true_positives + total_false_positives > 0 else 0\n",
    "    recall = total_true_positives / (total_true_positives + total_false_negatives) if total_true_positives + total_false_negatives > 0 else 0\n",
    "    f1 = (\n",
    "        2 * precision * recall / (precision + recall)\n",
    "        if precision + recall > 0 else 0\n",
    "    )\n",
    "\n",
    "    return precision, recall, f1\n"
   ]
  },
  {
   "cell_type": "markdown",
   "metadata": {},
   "source": [
    "# **Choosing Values for `k_neighbors` and `threshold`**\n",
    "\n",
    "To balance the model's performance, we iterate over a range of values for:\n",
    "- **`k_neighbors`**: The number of nearest neighbors to consider during k-NN.\n",
    "- **`threshold`**: The Q-value threshold to filter recommendations.\n",
    "\n",
    "The optimal combination balances precision, recall, and F1-score.\n",
    "\n",
    "> **Note**: This block is disabled by default. You can enable it by setting `run_this_block = True`."
   ]
  },
  {
   "cell_type": "code",
   "execution_count": 19,
   "metadata": {},
   "outputs": [
    {
     "name": "stdout",
     "output_type": "stream",
     "text": [
      "At k = 1, threshold = 0.7000000000000001: \n",
      "Precision: 0.7016, Recall: 0.7015, F1 Score: 0.7015\n",
      "At k = 1, threshold = 0.8: \n",
      "Precision: 0.7016, Recall: 0.7015, F1 Score: 0.7015\n",
      "--------------------------------------------------\n",
      "At k = 2, threshold = 0.7000000000000001: \n",
      "Precision: 0.6787, Recall: 0.6554, F1 Score: 0.6668\n",
      "At k = 2, threshold = 0.8: \n",
      "Precision: 0.8118, Recall: 0.5220, F1 Score: 0.6354\n",
      "--------------------------------------------------\n",
      "At k = 3, threshold = 0.7000000000000001: \n",
      "Precision: 0.7159, Recall: 0.7363, F1 Score: 0.7259\n",
      "At k = 3, threshold = 0.8: \n",
      "Precision: 0.7973, Recall: 0.5792, F1 Score: 0.6710\n",
      "--------------------------------------------------\n",
      "At k = 4, threshold = 0.7000000000000001: \n",
      "Precision: 0.7181, Recall: 0.7473, F1 Score: 0.7324\n",
      "At k = 4, threshold = 0.8: \n",
      "Precision: 0.8009, Recall: 0.6225, F1 Score: 0.7005\n",
      "--------------------------------------------------\n"
     ]
    }
   ],
   "source": [
    "run_this_block = True  # Set to True to enable this block\n",
    "\n",
    "if run_this_block:\n",
    "    for k_neighbors in range(1,5):\n",
    "        for threshold in range(7, 9):\n",
    "            precision, recall, f1 = validate_policy_weighted_knn_metrics(\n",
    "            q_table=loaded_q_table,\n",
    "            encoded_training_states=loaded_training_states,\n",
    "            val_states=val_states,\n",
    "            val_actions=val_actions,\n",
    "            index_to_action=loaded_index_to_action,\n",
    "            threshold=threshold*0.1,\n",
    "            k=k_neighbors \n",
    "            )\n",
    "            \n",
    "            print(f\"At k = {k_neighbors}, threshold = {threshold*0.1}: \")\n",
    "            print(f\"Precision: {precision:.4f}, Recall: {recall:.4f}, F1 Score: {f1:.4f}\")\n",
    "        print(\"-\"*50)"
   ]
  },
  {
   "cell_type": "code",
   "execution_count": 24,
   "metadata": {},
   "outputs": [
    {
     "name": "stdout",
     "output_type": "stream",
     "text": [
      "Precision: 0.7181, Recall: 0.7473, F1 Score: 0.7324\n"
     ]
    }
   ],
   "source": [
    "# best parameters for our model to give good list of recommendations to user without overwhelming them with too many\n",
    "k = 3\n",
    "threshold = 0.7\n",
    "\n",
    "precision, recall, f1 = validate_policy_weighted_knn_metrics(\n",
    "q_table=loaded_q_table,\n",
    "encoded_training_states=loaded_training_states,\n",
    "val_states=val_states,\n",
    "val_actions=val_actions,\n",
    "index_to_action=loaded_index_to_action,\n",
    "threshold=threshold,\n",
    "k=k_neighbors \n",
    ")\n",
    "\n",
    "print(f\"Precision: {precision:.4f}, Recall: {recall:.4f}, F1 Score: {f1:.4f}\")"
   ]
  },
  {
   "cell_type": "markdown",
   "metadata": {},
   "source": [
    "# **Recommendations for a Validation State**\n",
    "\n",
    "After training, the system generates personalized recommendations for validation states. Here’s an example:\n",
    "\n",
    "### **Validation State**\n",
    "- Encoded Attributes: [42, 0, 3, 167, 2, 1, 0, 0, 1, 2, 1, 0, 2, 2]\n",
    "\n",
    "### **True Actions**\n",
    "- Exercise regularly\n",
    "- Use affordable fitness apps\n",
    "- Eat healthy foods\n",
    "- Attend regular preventative medical checkups\n",
    "- Try community hikes or dance classes\n",
    "- Join small, interest-based groups\n",
    "- Participate in online communities\n",
    "- Engage in hobbies you enjoy\n",
    "- Watch your favorite shows\n",
    "\n",
    "### **Predicted Actions**\n",
    "- Build an emergency savings fund\n",
    "- Engage in hobbies you enjoy\n",
    "- Start tracking weekly expenses using an app\n",
    "- Eat healthy foods\n",
    "- Exercise regularly\n",
    "- ...\n",
    "\n",
    "### **Comparison**\n",
    "- **Correct Predictions**: Exercise regularly, Eat healthy foods, Participate in online communities\n",
    "- **False Negatives**: Try community hikes, Watch your favorite shows\n",
    "- **False Positives**: Build an emergency savings fund, Start tracking expenses\n",
    "\n",
    "This analysis helps refine the model by adjusting thresholds, weights, or k-NN parameters.\n"
   ]
  },
  {
   "cell_type": "code",
   "execution_count": null,
   "metadata": {},
   "outputs": [
    {
     "name": "stdout",
     "output_type": "stream",
     "text": [
      "Validation State 0:\n",
      "Encoded State Vector: [42, 0, 3, 167, 2, 1, 0, 0, 1, 2, 1, 0, 2, 2]\n",
      "\n",
      "True Actions:\n",
      "- Exercise regularly\n",
      "- Use affordable fitness apps\n",
      "- Eat healthy foods\n",
      "- Attend regular preventative medical checkups\n",
      "- Try community hikes or dance classes\n",
      "- Join small, interest-based groups\n",
      "- Participate in online communities\n",
      "- Engage in hobbies you enjoy\n",
      "- Watch your favorite shows\n",
      "\n",
      "Predicted Actions:\n",
      "- Engage in hobbies you enjoy\n",
      "- Eat healthy foods\n",
      "- Exercise regularly\n",
      "- Participate in online communities\n",
      "- Use affordable fitness apps\n",
      "- Try community hikes or dance classes\n",
      "- Attend regular preventative medical checkups\n",
      "- Join small, interest-based groups\n",
      "- Watch your favorite shows\n",
      "\n",
      "Comparison:\n",
      "Common Actions (Correctly Predicted): ['Exercise regularly', 'Attend regular preventative medical checkups', 'Eat healthy foods', 'Engage in hobbies you enjoy', 'Try community hikes or dance classes', 'Participate in online communities', 'Watch your favorite shows', 'Use affordable fitness apps', 'Join small, interest-based groups']\n",
      "Missing Actions (False Negatives): []\n",
      "Extra Actions (False Positives): []\n"
     ]
    }
   ],
   "source": [
    "from sklearn.neighbors import NearestNeighbors\n",
    "import numpy as np\n",
    "\n",
    "# Define necessary variables\n",
    "# Assuming these are loaded or generated beforehand:\n",
    "train_q_table = np.load(\"train_q_table.npy\")  # Your Q-table\n",
    "encoded_training_states = np.load(\"encoded_training_states.npy\")  # Encoded training states\n",
    "index_to_action = np.load(\"index_to_action.npy\", allow_pickle=True).item()  # Mapping of indices to actions\n",
    "\n",
    "# Initialize k-NN\n",
    "k = k_neighbors\n",
    "knn = NearestNeighbors(n_neighbors=k, metric=\"cosine\")\n",
    "knn.fit(encoded_training_states)\n",
    "\n",
    "# Select a specific validation state\n",
    "state_idx = 0  # Index of the validation state to analyze *******************************\n",
    "val_state = val_states[state_idx]\n",
    "true_actions = val_actions[state_idx]\n",
    "\n",
    "# Get predicted actions using k-NN\n",
    "distances, indices = knn.kneighbors(val_state.reshape(1, -1))\n",
    "closest_states = [idx for idx in indices[0] if idx < len(train_q_table)]  # Valid indices\n",
    "\n",
    "# Aggregate Q-values for neighbors\n",
    "aggregated_q_values = np.mean([train_q_table[idx] for idx in closest_states], axis=0)\n",
    "max_q_value = np.max(aggregated_q_values)\n",
    "\n",
    "# Predicted actions based on the threshold\n",
    "threshold = threshold\n",
    "predicted_actions = [\n",
    "    index_to_action[action_idx]\n",
    "    for action_idx in np.where(aggregated_q_values >= threshold * max_q_value)[0]\n",
    "]\n",
    "\n",
    "# Display the real data\n",
    "print(f\"Validation State {state_idx}:\")\n",
    "print(f\"Encoded State Vector: {val_state.tolist()}\")\n",
    "\n",
    "\n",
    "print(\"\\nTrue Actions:\")\n",
    "for action in true_actions:\n",
    "    print(f\"- {action}\")\n",
    "\n",
    "print(\"\\nPredicted Actions:\")\n",
    "for action in predicted_actions:\n",
    "    print(f\"- {action}\")\n",
    "\n",
    "# Compare true and predicted actions\n",
    "common_actions = set(true_actions) & set(predicted_actions)\n",
    "missing_actions = set(true_actions) - set(predicted_actions)\n",
    "extra_actions = set(predicted_actions) - set(true_actions)\n",
    "\n",
    "print(\"\\nComparison:\")\n",
    "print(f\"Common Actions (Correctly Predicted): {list(common_actions)}\")\n",
    "print(f\"Missing Actions (False Negatives): {list(missing_actions)}\")\n",
    "print(f\"Extra Actions (False Positives): {list(extra_actions)}\")\n"
   ]
  },
  {
   "cell_type": "markdown",
   "metadata": {},
   "source": [
    "# **Limitations, Future Improvements, and Conclusion**\n",
    "\n",
    "---\n",
    "\n",
    "## **Limitations**\n",
    "\n",
    "1. **Simplistic Dataset**:\n",
    "   - The generated dataset, while logically consistent, may not fully capture the complexity of real-world scenarios.\n",
    "   - Behavioral nuances and cultural variations might be underrepresented.\n",
    "\n",
    "2. **Dependence on K-NN for Generalization**:\n",
    "   - While the k-NN algorithm helps with state matching, it may overgeneralize or underfit in certain cases, especially with edge cases or sparse data.\n",
    "   - The model's effectiveness heavily relies on the quality of encoded features and their distance metrics.\n",
    "\n",
    "---\n",
    "\n",
    "## **Future Improvements**\n",
    "\n",
    "1. **Dynamic Learning and Real-World Feedback**:\n",
    "   - Incorporate live user feedback to continuously fine-tune recommendations and adjust priorities.\n",
    "   - Implement reinforcement learning with continuous updates to the Q-table based on real-world user interactions.\n",
    "\n",
    "2. **Context-Aware Recommendations**:\n",
    "   - Integrate contextual data (e.g., time of year, geographic location) to provide more situationally appropriate recommendations.\n",
    "   - Include temporal factors to prioritize short-term vs. long-term actions.\n",
    "\n",
    "---\n",
    "\n",
    "## **Conclusion**\n",
    "\n",
    "The **LifeHarmony Recommender System** demonstrates the potential of combining reinforcement learning and k-NN-based state matching to provide tailored recommendations. By aligning user attributes and priorities with actionable suggestions, the system offers a pathway to a more balanced and fulfilling life.\n",
    "\n",
    "While the current implementation achieves promising results with an **F1 score of 0.7324**, further refinements can improve its robustness and applicability. Addressing the outlined limitations and leveraging real-world feedback will be crucial for future iterations. With continuous development, the system has the potential to become a powerful tool for personal growth and well-being. \n",
    "\n",
    "--- \n"
   ]
  }
 ],
 "metadata": {
  "kernelspec": {
   "display_name": "Python 3 (ipykernel)",
   "language": "python",
   "name": "python3"
  },
  "language_info": {
   "codemirror_mode": {
    "name": "ipython",
    "version": 3
   },
   "file_extension": ".py",
   "mimetype": "text/x-python",
   "name": "python",
   "nbconvert_exporter": "python",
   "pygments_lexer": "ipython3",
   "version": "3.12.4"
  }
 },
 "nbformat": 4,
 "nbformat_minor": 4
}
